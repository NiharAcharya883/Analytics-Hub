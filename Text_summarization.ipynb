{
 "cells": [
  {
   "cell_type": "code",
   "execution_count": 1,
   "metadata": {},
   "outputs": [
    {
     "name": "stdout",
     "output_type": "stream",
     "text": [
      "True\n",
      "NVIDIA GeForce GTX 1650 Ti\n"
     ]
    }
   ],
   "source": [
    "import torch\n",
    "print(torch.cuda.is_available())  # Should print True\n",
    "print(torch.cuda.get_device_name(0))  # Check your GPU name\n"
   ]
  },
  {
   "cell_type": "code",
   "execution_count": 2,
   "metadata": {},
   "outputs": [
    {
     "name": "stderr",
     "output_type": "stream",
     "text": [
      "c:\\Python312\\Lib\\site-packages\\huggingface_hub\\file_download.py:832: UserWarning: `local_dir_use_symlinks` parameter is deprecated and will be ignored. The process to download files to a local folder has been updated and do not rely on symlinks anymore. You only need to pass a destination folder as`local_dir`.\n",
      "For more details, check out https://huggingface.co/docs/huggingface_hub/main/en/guides/download#download-files-to-local-folder.\n",
      "  warnings.warn(\n"
     ]
    },
    {
     "data": {
      "application/vnd.jupyter.widget-view+json": {
       "model_id": "49c7631d8e8842f681b526bb4132b837",
       "version_major": 2,
       "version_minor": 0
      },
      "text/plain": [
       "Fetching 9 files:   0%|          | 0/9 [00:00<?, ?it/s]"
      ]
     },
     "metadata": {},
     "output_type": "display_data"
    },
    {
     "data": {
      "application/vnd.jupyter.widget-view+json": {
       "model_id": "d3cdb4b7818c4f5caea1bdfd2e0f525b",
       "version_major": 2,
       "version_minor": 0
      },
      "text/plain": [
       "special_tokens_map.json:   0%|          | 0.00/65.0 [00:00<?, ?B/s]"
      ]
     },
     "metadata": {},
     "output_type": "display_data"
    },
    {
     "data": {
      "application/vnd.jupyter.widget-view+json": {
       "model_id": "2f1ddb68dec84541ae571d5e926dca32",
       "version_major": 2,
       "version_minor": 0
      },
      "text/plain": [
       "spiece.model:   0%|          | 0.00/1.91M [00:00<?, ?B/s]"
      ]
     },
     "metadata": {},
     "output_type": "display_data"
    },
    {
     "data": {
      "application/vnd.jupyter.widget-view+json": {
       "model_id": "ac334637ad3b455d9799977928a3e722",
       "version_major": 2,
       "version_minor": 0
      },
      "text/plain": [
       "README.md:   0%|          | 0.00/3.33k [00:00<?, ?B/s]"
      ]
     },
     "metadata": {},
     "output_type": "display_data"
    },
    {
     "data": {
      "application/vnd.jupyter.widget-view+json": {
       "model_id": "04a37df82ede4b26bbd2f98a913da36a",
       "version_major": 2,
       "version_minor": 0
      },
      "text/plain": [
       "pytorch_model.bin:   0%|          | 0.00/2.28G [00:00<?, ?B/s]"
      ]
     },
     "metadata": {},
     "output_type": "display_data"
    },
    {
     "data": {
      "application/vnd.jupyter.widget-view+json": {
       "model_id": "eab94e09b3a74025a24fb02d9db4b669",
       "version_major": 2,
       "version_minor": 0
      },
      "text/plain": [
       ".gitattributes:   0%|          | 0.00/345 [00:00<?, ?B/s]"
      ]
     },
     "metadata": {},
     "output_type": "display_data"
    },
    {
     "data": {
      "application/vnd.jupyter.widget-view+json": {
       "model_id": "3b157ce7f5f54e3eb9c8032f928bcb79",
       "version_major": 2,
       "version_minor": 0
      },
      "text/plain": [
       "generation_config.json:   0%|          | 0.00/280 [00:00<?, ?B/s]"
      ]
     },
     "metadata": {},
     "output_type": "display_data"
    },
    {
     "data": {
      "application/vnd.jupyter.widget-view+json": {
       "model_id": "75d994209a984b0caa765b632dde4b7d",
       "version_major": 2,
       "version_minor": 0
      },
      "text/plain": [
       "config.json:   0%|          | 0.00/1.12k [00:00<?, ?B/s]"
      ]
     },
     "metadata": {},
     "output_type": "display_data"
    },
    {
     "data": {
      "application/vnd.jupyter.widget-view+json": {
       "model_id": "6c8fb6cd0cb34a83964c195ea582f6f6",
       "version_major": 2,
       "version_minor": 0
      },
      "text/plain": [
       "tokenizer_config.json:   0%|          | 0.00/88.0 [00:00<?, ?B/s]"
      ]
     },
     "metadata": {},
     "output_type": "display_data"
    },
    {
     "data": {
      "application/vnd.jupyter.widget-view+json": {
       "model_id": "f74738c58e7e4dd9a805fe5a837a2d4b",
       "version_major": 2,
       "version_minor": 0
      },
      "text/plain": [
       "rust_model.ot:   0%|          | 0.00/3.06G [00:00<?, ?B/s]"
      ]
     },
     "metadata": {},
     "output_type": "display_data"
    },
    {
     "name": "stdout",
     "output_type": "stream",
     "text": [
      "Model downloaded successfully to C:\\Users\\nihar\\Desktop\\8th Sem\\Hugging_Face\\pegasus_model\n"
     ]
    }
   ],
   "source": [
    "from transformers import PegasusTokenizer, PegasusForConditionalGeneration\n",
    "from huggingface_hub import snapshot_download\n",
    "\n",
    "# Define model name and target directory\n",
    "model_name = \"google/pegasus-cnn_dailymail\"\n",
    "local_dir = r\"C:\\Users\\nihar\\Desktop\\8th Sem\\Hugging_Face\\pegasus_model\"\n",
    "\n",
    "# Download the model files completely\n",
    "snapshot_download(repo_id=model_name, local_dir=local_dir, local_dir_use_symlinks=False)\n",
    "\n",
    "print(\"Model downloaded successfully to\", local_dir)\n"
   ]
  },
  {
   "cell_type": "code",
   "execution_count": 4,
   "metadata": {},
   "outputs": [
    {
     "name": "stderr",
     "output_type": "stream",
     "text": [
      "Some weights of PegasusForConditionalGeneration were not initialized from the model checkpoint at C:\\Users\\nihar\\Desktop\\8th Sem\\Hugging_Face\\pegasus_model and are newly initialized: ['model.decoder.embed_positions.weight', 'model.encoder.embed_positions.weight']\n",
      "You should probably TRAIN this model on a down-stream task to be able to use it for predictions and inference.\n"
     ]
    },
    {
     "name": "stdout",
     "output_type": "stream",
     "text": [
      "Model loaded successfully from local directory!\n"
     ]
    }
   ],
   "source": [
    "import torch\n",
    "from transformers import PegasusTokenizer, PegasusForConditionalGeneration\n",
    "\n",
    "# Define the local model directory\n",
    "local_dir = r\"C:\\Users\\nihar\\Desktop\\8th Sem\\Hugging_Face\\pegasus_model\"\n",
    "\n",
    "# Load tokenizer and model from local directory\n",
    "tokenizer = PegasusTokenizer.from_pretrained(local_dir)\n",
    "model = PegasusForConditionalGeneration.from_pretrained(local_dir).to(\"cuda\" if torch.cuda.is_available() else \"cpu\")\n",
    "\n",
    "print(\"Model loaded successfully from local directory!\")\n"
   ]
  },
  {
   "cell_type": "code",
   "execution_count": 5,
   "metadata": {},
   "outputs": [],
   "source": [
    "def summarize_text(text):\n",
    "    max_tokens = 1056\n",
    "\n",
    "    # Tokenize input text\n",
    "    input_tokens = tokenizer.encode(text, return_tensors=\"pt\", truncation=False)\n",
    "    input_length = input_tokens.shape[1]\n",
    "    char_length = len(text)\n",
    "\n",
    "    print(f\"\\n🔹 Original Text Length: {char_length} characters, {input_length} tokens\")\n",
    "\n",
    "    # Target summary length (~25% of original)\n",
    "    target_length = max(30, int(input_length * 0.25))  # Minimum length 30 tokens\n",
    "\n",
    "    if input_length <= max_tokens:\n",
    "        # ✅ Normal summarization for short texts\n",
    "        print(\"✅ Text is within token limit, summarizing directly...\")\n",
    "        inputs = tokenizer(text, return_tensors=\"pt\", truncation=True, max_length=max_tokens).to(model.device)\n",
    "        summary_ids = model.generate(\n",
    "            **inputs,\n",
    "            max_length=target_length + 30,  # Allow some buffer to avoid cutting off sentences\n",
    "            min_length=target_length // 2,\n",
    "            length_penalty=2.0,\n",
    "            num_beams=5,\n",
    "            early_stopping=True  # Ensures sentence completion\n",
    "        )\n",
    "        summary = tokenizer.decode(summary_ids[0], skip_special_tokens=True)\n",
    "\n",
    "        print(f\"🔹 Summary Length: {len(summary)} characters, {len(tokenizer.encode(summary))} tokens\")\n",
    "        return summary\n",
    "\n",
    "    else:\n",
    "        # ✅ Handle long text with chunking\n",
    "        print(\"⚠️ Text exceeds token limit, performing chunked summarization...\")\n",
    "        chunk_size = max_tokens - 56  # Keep buffer for special tokens\n",
    "        chunks = [text[i:i+chunk_size] for i in range(0, len(text), chunk_size)]\n",
    "\n",
    "        print(f\"🔹 Total Chunks: {len(chunks)} (each ~{chunk_size} chars)\")\n",
    "\n",
    "        summaries = []\n",
    "        for i, chunk in enumerate(chunks):\n",
    "            print(f\"\\n📝 Processing Chunk {i+1}/{len(chunks)}...\")\n",
    "            inputs = tokenizer(chunk, return_tensors=\"pt\", truncation=True, max_length=max_tokens).to(model.device)\n",
    "            summary_ids = model.generate(\n",
    "                **inputs,\n",
    "                max_length=(target_length // len(chunks)) + 30,\n",
    "                min_length=(target_length // (2 * len(chunks))),\n",
    "                length_penalty=2.0,\n",
    "                num_beams=5,\n",
    "                early_stopping=True\n",
    "            )\n",
    "            chunk_summary = tokenizer.decode(summary_ids[0], skip_special_tokens=True)\n",
    "            summaries.append(chunk_summary)\n",
    "\n",
    "            print(f\"✅ Chunk {i+1} Summary Length: {len(chunk_summary)} chars, {len(tokenizer.encode(chunk_summary))} tokens\")\n",
    "\n",
    "        final_summary = \" \".join(summaries)  # Merge summaries properly\n",
    "        print(f\"\\n🔹 Final Summary Length: {len(final_summary)} characters, {len(tokenizer.encode(final_summary))} tokens\")\n",
    "        return final_summary\n"
   ]
  },
  {
   "cell_type": "code",
   "execution_count": 6,
   "metadata": {},
   "outputs": [
    {
     "name": "stderr",
     "output_type": "stream",
     "text": [
      "Token indices sequence length is longer than the specified maximum sequence length for this model (1337 > 1024). Running this sequence through the model will result in indexing errors\n"
     ]
    },
    {
     "name": "stdout",
     "output_type": "stream",
     "text": [
      "\n",
      "🔹 Original Text Length: 7626 characters, 1337 tokens\n",
      "⚠️ Text exceeds token limit, performing chunked summarization...\n",
      "🔹 Total Chunks: 8 (each ~1000 chars)\n",
      "\n",
      "📝 Processing Chunk 1/8...\n",
      "✅ Chunk 1 Summary Length: 322 chars, 70 tokens\n",
      "\n",
      "📝 Processing Chunk 2/8...\n",
      "✅ Chunk 2 Summary Length: 238 chars, 52 tokens\n",
      "\n",
      "📝 Processing Chunk 3/8...\n",
      "✅ Chunk 3 Summary Length: 260 chars, 49 tokens\n",
      "\n",
      "📝 Processing Chunk 4/8...\n",
      "✅ Chunk 4 Summary Length: 225 chars, 44 tokens\n",
      "\n",
      "📝 Processing Chunk 5/8...\n",
      "✅ Chunk 5 Summary Length: 272 chars, 50 tokens\n",
      "\n",
      "📝 Processing Chunk 6/8...\n",
      "✅ Chunk 6 Summary Length: 278 chars, 51 tokens\n",
      "\n",
      "📝 Processing Chunk 7/8...\n",
      "✅ Chunk 7 Summary Length: 327 chars, 70 tokens\n",
      "\n",
      "📝 Processing Chunk 8/8...\n",
      "✅ Chunk 8 Summary Length: 248 chars, 45 tokens\n",
      "\n",
      "🔹 Final Summary Length: 2177 characters, 424 tokens\n",
      "\n",
      "✨ FINAL SUMMARY:\n",
      " This paper analyzes the time-consuming analysis of each cascading network module (PNet module, RNet module and ONet module) in MTCNN .<n>Two improved methods are proposed, one is to reduce the number of candidate face frames in input PNet network and the other is to reduce the number of output face frames in PNet network rmance of OpenCV-VJ and SURF face detection algorithms on FDDB, the optimized MTCNN algorithm has better performance .<n>Test results reflect that the reproduced and optimized MTCNN face detection algorithm has good to face pose changes . Systems such as smart access control and identity verification in high-speed railway stations .<n>Some face recognition systems require a high degree of cooperation from people .<n>The specific target scenario studied in this paper is a singlechannel bayonet . The goal of the research is to apply a faster and better performance algorithm to the channel bayonet face recognition system with low computing power .<n>It can be mounted on low-end devices with poor computing performance . This paper reproduces the MTCNN face detection algorithm on channel bayonet deep learning framework .<n>The fusion of the improved speed-up MTCNN algorithm and the supervised Kalman filter human tracking algorithm proposed in paper accelerates the system operation speed . This paper analyzes the development status of face detection in the system at home and abroad, and compares and analyzes various algorithms .<n>Since there is no engineering implementation of MTCNN algorithm based on Python language and framework, it is reproduced and trained . In view of the low detection speed of the MTCNN algorithm in high-resolution videos, a series of optimizations such as minnisize adjustment and PNet threshold adjustment are performed .<n>According to the detection rate on the FDDB face test set and the actual detection speed in 720p high-resolution video, it can be seen that The face detection module was designed and implemented, and actual engineering tests were carried out .<n>Test results reflect the specific data that the reproduced and tuned MTCNN face detection algorithm has good robustness to face pose changes .\n"
     ]
    }
   ],
   "source": [
    "text = \"\"\"This paper analyzes the time-consuming analysis of\n",
    "each cascading network module (PNet module, RNet\n",
    "module and ONet module) in MTCNN, and finds that the\n",
    "time-consuming of PNet module is the highest (about\n",
    "70%). According to the results of time-consuming\n",
    "analysis, two improved methods are proposed, one is to\n",
    "reduce the number of candidate face frames in input PNet\n",
    "network and the other is to reduce the number of output\n",
    "face frames in PNet network. Then, aiming at the\n",
    "problem that MTCNN algorithm has low detection speed\n",
    "in high-resolution video and cannot meet real-time\n",
    "requirements, a series of optimization such as adjusting\n",
    "the minnisize parameter and PNet threshold in\n",
    "combination with the low computing power application\n",
    "scenarios of the channel bayonet. It is verified in the\n",
    "FDDB face test set and practical application, the\n",
    "detection speed has increased by 70.1% when the\n",
    "detection rate has dropped by only 3.5%, and the\n",
    "improved scheme has achieved good results. Compared\n",
    "with the performance of OpenCV-VJ and SURF face\n",
    "detection algorithms on FDDB, the optimized MTCNN\n",
    "algorithm has better performance. Through the analysis\n",
    "of the detection results of the specific FDDB data set\n",
    "pictures, it is found that the undetected face conditions do\n",
    "not meet the actual application scenarios in this article,\n",
    "which proves that the optimized algorithm has excellent\n",
    "performance in actual applications. The test results reflect\n",
    "that the reproduced and optimized MTCNN face\n",
    "detection algorithm has good robustness to face pose\n",
    "changes, and fully meets the requirements of face\n",
    "recognition systems in low computing power scenarios\n",
    "such as channel bayonet. A mature face recognition system usually consists of\n",
    "image acquisition, image preprocessing, face detection,\n",
    "face tracking, face alignment, feature extraction and\n",
    "comparison. Among the more critical steps are face\n",
    "detection, tracking and face feature extraction. In\n",
    "recent years, face recognition systems have been\n",
    "widely used in channel bayonet systems such as smart\n",
    "access control and identity verification in high-speed\n",
    "railway stations. These channel bayonet face\n",
    "recognition systems have all or most of the face image\n",
    "collection, face detection, face alignment, face quality\n",
    "detection, face feature extraction, face tracking and\n",
    "other steps. However, some of these systems require a\n",
    "high degree of cooperation from people, some are\n",
    "complex to implement, and some have high\n",
    "requirements for hardware such as computing devices.\n",
    "On the one hand, the computing power of embedded\n",
    "systems is not enough to support face detection,\n",
    "tracking and face feature pairing based on deep\n",
    "learning. Real-time requirements, some channel\n",
    "bayonet face recognition systems require people to\n",
    "deliberately approach the camera to cooperate with the\n",
    "system for verification, discarding the natural and\n",
    "convenient advantages of face recognition. The\n",
    "specific target scenario studied in this paper is a singlechannel bayonet (single face close range), and the goal\n",
    "is to be able to quickly compare and recognize faces\n",
    "within 1-4 meters. The goal of the research is to apply\n",
    "a faster and better performance algorithm to the\n",
    "channel bayonet face recognition system with low\n",
    "computing power, and to improve the operating speed\n",
    "of the face recognition system through the improved\n",
    "face detection algorithm. It can be mounted on low-end\n",
    "devices with poor computing performance while\n",
    "maintaining certain detection and recognition performance.\n",
    "Aiming at the above problems, this paper combines\n",
    "the channel bayonet application scenarios, through\n",
    "research and improve face detection algorithms, face\n",
    "tracking auxiliary algorithms, and introduce face\n",
    "selection algorithms in the face recognition module to\n",
    "satisfy the real-time and convenience requirements of\n",
    "the channel bayonet face recognition system. After investigating and studying the existing face\n",
    "recognition system and analyzing its advantages and\n",
    "disadvantages, this paper improves the key\n",
    "technologies of the face recognition system. Firstly,\n",
    "using Python language to reproduce the MTCNN face\n",
    "detection algorithm on the TensorFlow deep learning\n",
    "framework, and it is optimized and improved by\n",
    "combining with the actual application scene of channel\n",
    "bayonet in this paper. The fusion of the improved\n",
    "speed-up MTCNN algorithm and the supervised\n",
    "Kalman filter human tracking algorithm proposed in\n",
    "this paper accelerates the system operation speed.\n",
    "According to the face selection algorithm proposed in\n",
    "this paper, a face selection module with multiple\n",
    "purposes is designed. Then according to the\n",
    "comparison and analysis of various face recognition\n",
    "algorithms, the FaceNet face recognition algorithm is\n",
    "selected, and the face recognition module is designed\n",
    "in combination with the face selection algorithm\n",
    "proposed in this paper. Finally, the above research is\n",
    "applied to the channel bayonet face recognition system,\n",
    "and the system design and implementation are\n",
    "completed. The chapter arrangement and corresponding\n",
    "main work of this paper are as follows.\n",
    "The first part is the introduction and the second part\n",
    "is overseas and domestic research status, which\n",
    "explains the research background and significance of\n",
    "face recognition system; This paper analyzes the\n",
    "development status of face detection in the system at\n",
    "home and abroad, and compares and analyzes various\n",
    "algorithms, paving the way and explaining the reasons\n",
    "for the selection of various algorithms in the following\n",
    "research work. The third part introduces the common\n",
    "data set of face detection. The fourth part and the fifth\n",
    "part choose MTCNN algorithm as the face detection\n",
    "algorithm in the system according to the investigation\n",
    "and experimental comparison of face detection algorithm.\n",
    "Since there is no engineering implementation of\n",
    "MTCNN algorithm based on Python language and\n",
    "TensorFlow framework, it is reproduced and trained\n",
    "after an in-depth understanding of its convolutional\n",
    "neural network structure and detailed training methods.\n",
    "Afterwards, the time-consuming analysis of all levels\n",
    "of the network in MTCNN was carried out, and it was\n",
    "found that the PNet module took the highest proportion\n",
    "of time, and the corresponding speed-up suggestions\n",
    "were put forward. Then, in view of the low detection\n",
    "speed of the MTCNN algorithm in high-resolution\n",
    "videos, it cannot meet the real-time problem, combined\n",
    "with the specific application scenarios of the channel\n",
    "bayonet face recognition in this paper, a series of\n",
    "optimizations such as minnisize adjustment and PNet\n",
    "threshold adjustment are performed. Finally, according\n",
    "to the detection rate on the FDDB face test set and the\n",
    "actual detection speed in 720p high-resolution video, it\n",
    "can be seen that the detection speed increases by\n",
    "70.1% when the detection rate drops by 3.5%. By\n",
    "analyzing the detection results of specific FDDB data\n",
    "set images, it is found that the undetected face\n",
    "conditions do not meet the practical application\n",
    "scenarios in this paper, which proves the excellent\n",
    "performance of the optimized algorithm in practical\n",
    "application. Finally, the face detection module was\n",
    "designed and implemented, and actual engineering\n",
    "tests were carried out; the test results reflect the\n",
    "specific data that the reproduced and tuned MTCNN\n",
    "face detection algorithm has good robustness to face\n",
    "pose changes and fully meet the requirements of the\n",
    "channel bayonet face recognition system. The sixth\n",
    "part is a summary and outlook. It summarizes the main\n",
    "research content of this paper, analyzes the affirmative\n",
    "part of the research work and the problems that need to\n",
    "be studied, and put forward the research direction for\n",
    "future work. \"\"\"  # Replace with real content\n",
    "summary = summarize_text(text)\n",
    "\n",
    "print(\"\\n✨ FINAL SUMMARY:\\n\", summary)\n"
   ]
  },
  {
   "cell_type": "code",
   "execution_count": 1,
   "metadata": {},
   "outputs": [
    {
     "name": "stderr",
     "output_type": "stream",
     "text": [
      "Some weights of PegasusForConditionalGeneration were not initialized from the model checkpoint at C:\\Users\\nihar\\Desktop\\8th Sem\\Hugging_Face\\pegasus_model and are newly initialized: ['model.decoder.embed_positions.weight', 'model.encoder.embed_positions.weight']\n",
      "You should probably TRAIN this model on a down-stream task to be able to use it for predictions and inference.\n"
     ]
    },
    {
     "name": "stdout",
     "output_type": "stream",
     "text": [
      "Model loaded successfully from local directory!\n"
     ]
    }
   ],
   "source": [
    "import torch\n",
    "from transformers import PegasusTokenizer, PegasusForConditionalGeneration\n",
    "\n",
    "# Define the local model directory\n",
    "local_dir = r\"C:\\Users\\nihar\\Desktop\\8th Sem\\Hugging_Face\\pegasus_model\"\n",
    "\n",
    "# Load tokenizer and model from local directory\n",
    "tokenizer = PegasusTokenizer.from_pretrained(local_dir)\n",
    "model = PegasusForConditionalGeneration.from_pretrained(local_dir).to(\"cuda\" if torch.cuda.is_available() else \"cpu\")\n",
    "\n",
    "print(\"Model loaded successfully from local directory!\")\n",
    "\n",
    "\n",
    "\n"
   ]
  },
  {
   "cell_type": "code",
   "execution_count": 2,
   "metadata": {},
   "outputs": [],
   "source": [
    "def chunk_text(text, tokenizer, max_tokens=1024):\n",
    "    \"\"\"\n",
    "    Splits long text into token-based chunks while maintaining sentence boundaries.\n",
    "    \"\"\"\n",
    "    tokens = tokenizer.encode(text, truncation=False)\n",
    "    chunks = [tokens[i:i+max_tokens] for i in range(0, len(tokens), max_tokens)]\n",
    "    \n",
    "    print(f\"🔹 Total Input Tokens: {len(tokens)}\")\n",
    "    print(f\"🔹 Number of Chunks: {len(chunks)}\")\n",
    "    print(f\"🔹 Chunk Sizes: {[len(chunk) for chunk in chunks]}\\n\")\n",
    "    \n",
    "    return [tokenizer.decode(chunk, skip_special_tokens=True) for chunk in chunks], len(tokens)\n",
    "\n",
    "def summarize_text(text, min_ratio=0.25, max_ratio=0.30):\n",
    "    \"\"\"\n",
    "    Summarizes the text ensuring that the summary length is 25-30% of the original.\n",
    "    \"\"\"\n",
    "    device = \"cuda\" if torch.cuda.is_available() else \"cpu\"\n",
    "\n",
    "    # Token-based chunking for long texts\n",
    "    max_input_tokens = 1024  # Pegasus supports 1024 tokens\n",
    "    text_chunks, total_input_tokens = chunk_text(text, tokenizer, max_tokens=max_input_tokens)\n",
    "\n",
    "    summaries = []\n",
    "    for i, chunk in enumerate(text_chunks):\n",
    "        input_tokens = tokenizer.encode(chunk, return_tensors=\"pt\", truncation=True).to(device)\n",
    "        input_length = input_tokens.shape[1]\n",
    "        \n",
    "        # Ensure 25-30% summary length\n",
    "        min_summary_length = max(20, int(input_length * min_ratio))\n",
    "        max_summary_length = max(min_summary_length + 15, int(input_length * max_ratio))  \n",
    "\n",
    "        print(f\"🟢 Chunk {i+1}:\")\n",
    "        print(f\"   🔸 Input Tokens: {input_length}\")\n",
    "        print(f\"   🔸 Expected Output Tokens: {min_summary_length} - {max_summary_length}\")\n",
    "\n",
    "        # Generate summary\n",
    "        summary_ids = model.generate(\n",
    "            input_tokens, \n",
    "            max_length=max_summary_length, \n",
    "            min_length=min_summary_length, \n",
    "            length_penalty=1.5, \n",
    "            num_return_sequences=1\n",
    "        )\n",
    "\n",
    "        output_tokens = summary_ids.shape[1]\n",
    "        summary_text = tokenizer.decode(summary_ids[0], skip_special_tokens=True, clean_up_tokenization_spaces=True)\n",
    "\n",
    "        print(f\"   🔹 Output Tokens: {output_tokens}\")\n",
    "        print(f\"   🔹 Summary: {summary_text}\\n\")\n",
    "\n",
    "        summaries.append(summary_text)\n",
    "\n",
    "    # Re-summarize the merged summaries if multiple chunks exist\n",
    "    final_summary = \" \".join(summaries)\n",
    "    total_output_tokens = len(tokenizer.encode(final_summary, truncation=False))\n",
    "\n",
    "    print(f\"\\n✅ Final Summary Tokens: {total_output_tokens} (Target: {int(total_input_tokens * min_ratio)} - {int(total_input_tokens * max_ratio)})\")\n",
    "    print(f\"📌 Final Summary:\\n{final_summary}\\n\")\n",
    "\n",
    "    return final_summary.replace(\"\\n\", \" \")  # Remove unwanted newlines\n",
    "\n",
    "# Example Usage\n",
    "# input_text = \"\"\"Your long input text goes here... It can be multiple paragraphs long.\"\"\"\n",
    "# summary = summarize_text(input_text)"
   ]
  },
  {
   "cell_type": "code",
   "execution_count": 3,
   "metadata": {},
   "outputs": [
    {
     "name": "stderr",
     "output_type": "stream",
     "text": [
      "Token indices sequence length is longer than the specified maximum sequence length for this model (1337 > 1024). Running this sequence through the model will result in indexing errors\n"
     ]
    },
    {
     "name": "stdout",
     "output_type": "stream",
     "text": [
      "🔹 Total Input Tokens: 1337\n",
      "🔹 Number of Chunks: 2\n",
      "🔹 Chunk Sizes: [1024, 313]\n",
      "\n",
      "🟢 Chunk 1:\n",
      "   🔸 Input Tokens: 1024\n",
      "   🔸 Expected Output Tokens: 256 - 307\n",
      "   🔹 Output Tokens: 307\n",
      "   🔹 Summary: This paper analyzes the time-consuming analysis of each network module (PNet module, RNet module and ONet module) in MTCNN.<n>It finds that the time-consuming of PNet module is the highest (about 70%)<n>Two improved methods are proposed, one is to reduce the number of candidate face frames in input PNet network and the other is to reduce the number of output face frames in PNet network.<n>It is verified in the FDDB face test set and practical application, the detection speed has increased by 70.1% when the detection rate has dropped by only 3.5%, and the improved scheme has achieved good results.<n>This paper combines the channel bayonet application scenarios, through research and improve face detection algorithms, face tracking auxiliary algorithms, and introduce face selection algorithms in the face recognition module to satisfy the real-time and convenience requirements of the channel bayonet face recognition system.<n>The improved face detection algorithm can be mounted on low-end devices with poor computing performance, and to improve the operating speed of the face recognition system through the improved face detection algorithm, it can be applied to channel bayonet face recognition system with low computing power, and to improve the operating speed of the face recognition system through the improved face detection algorithm, it can be mounted on low-end devices with poor computing performance, and to improve the operating speed of the face recognition system through the improved face detection algorithm, it can be applied to channel bayonet face recognition system with low computing power, and to improve the operating\n",
      "\n",
      "🟢 Chunk 2:\n",
      "   🔸 Input Tokens: 313\n",
      "   🔸 Expected Output Tokens: 78 - 93\n",
      "   🔹 Output Tokens: 93\n",
      "   🔹 Summary: In view of the low detection speed of the MTCNN algorithm in high-resolution videos, a series of optimizations are performed.<n>According to the detection rate on the FDDB face test set and the actual detection speed in 720p high-resolution video, it can be seen that the detection speed increases by 70.1% when the detection rate drops by 3.5%.<n>The face detection module was designed and implemented, and actual engineering tests were carried out\n",
      "\n",
      "\n",
      "✅ Final Summary Tokens: 391 (Target: 334 - 401)\n",
      "📌 Final Summary:\n",
      "This paper analyzes the time-consuming analysis of each network module (PNet module, RNet module and ONet module) in MTCNN.<n>It finds that the time-consuming of PNet module is the highest (about 70%)<n>Two improved methods are proposed, one is to reduce the number of candidate face frames in input PNet network and the other is to reduce the number of output face frames in PNet network.<n>It is verified in the FDDB face test set and practical application, the detection speed has increased by 70.1% when the detection rate has dropped by only 3.5%, and the improved scheme has achieved good results.<n>This paper combines the channel bayonet application scenarios, through research and improve face detection algorithms, face tracking auxiliary algorithms, and introduce face selection algorithms in the face recognition module to satisfy the real-time and convenience requirements of the channel bayonet face recognition system.<n>The improved face detection algorithm can be mounted on low-end devices with poor computing performance, and to improve the operating speed of the face recognition system through the improved face detection algorithm, it can be applied to channel bayonet face recognition system with low computing power, and to improve the operating speed of the face recognition system through the improved face detection algorithm, it can be mounted on low-end devices with poor computing performance, and to improve the operating speed of the face recognition system through the improved face detection algorithm, it can be applied to channel bayonet face recognition system with low computing power, and to improve the operating In view of the low detection speed of the MTCNN algorithm in high-resolution videos, a series of optimizations are performed.<n>According to the detection rate on the FDDB face test set and the actual detection speed in 720p high-resolution video, it can be seen that the detection speed increases by 70.1% when the detection rate drops by 3.5%.<n>The face detection module was designed and implemented, and actual engineering tests were carried out\n",
      "\n",
      "Final Summary:\n",
      " This paper analyzes the time-consuming analysis of each network module (PNet module, RNet module and ONet module) in MTCNN.<n>It finds that the time-consuming of PNet module is the highest (about 70%)<n>Two improved methods are proposed, one is to reduce the number of candidate face frames in input PNet network and the other is to reduce the number of output face frames in PNet network.<n>It is verified in the FDDB face test set and practical application, the detection speed has increased by 70.1% when the detection rate has dropped by only 3.5%, and the improved scheme has achieved good results.<n>This paper combines the channel bayonet application scenarios, through research and improve face detection algorithms, face tracking auxiliary algorithms, and introduce face selection algorithms in the face recognition module to satisfy the real-time and convenience requirements of the channel bayonet face recognition system.<n>The improved face detection algorithm can be mounted on low-end devices with poor computing performance, and to improve the operating speed of the face recognition system through the improved face detection algorithm, it can be applied to channel bayonet face recognition system with low computing power, and to improve the operating speed of the face recognition system through the improved face detection algorithm, it can be mounted on low-end devices with poor computing performance, and to improve the operating speed of the face recognition system through the improved face detection algorithm, it can be applied to channel bayonet face recognition system with low computing power, and to improve the operating In view of the low detection speed of the MTCNN algorithm in high-resolution videos, a series of optimizations are performed.<n>According to the detection rate on the FDDB face test set and the actual detection speed in 720p high-resolution video, it can be seen that the detection speed increases by 70.1% when the detection rate drops by 3.5%.<n>The face detection module was designed and implemented, and actual engineering tests were carried out\n"
     ]
    }
   ],
   "source": [
    "# Example Usage\n",
    "input_text = \"\"\"This paper analyzes the time-consuming analysis of\n",
    "each cascading network module (PNet module, RNet\n",
    "module and ONet module) in MTCNN, and finds that the\n",
    "time-consuming of PNet module is the highest (about\n",
    "70%). According to the results of time-consuming\n",
    "analysis, two improved methods are proposed, one is to\n",
    "reduce the number of candidate face frames in input PNet\n",
    "network and the other is to reduce the number of output\n",
    "face frames in PNet network. Then, aiming at the\n",
    "problem that MTCNN algorithm has low detection speed\n",
    "in high-resolution video and cannot meet real-time\n",
    "requirements, a series of optimization such as adjusting\n",
    "the minnisize parameter and PNet threshold in\n",
    "combination with the low computing power application\n",
    "scenarios of the channel bayonet. It is verified in the\n",
    "FDDB face test set and practical application, the\n",
    "detection speed has increased by 70.1% when the\n",
    "detection rate has dropped by only 3.5%, and the\n",
    "improved scheme has achieved good results. Compared\n",
    "with the performance of OpenCV-VJ and SURF face\n",
    "detection algorithms on FDDB, the optimized MTCNN\n",
    "algorithm has better performance. Through the analysis\n",
    "of the detection results of the specific FDDB data set\n",
    "pictures, it is found that the undetected face conditions do\n",
    "not meet the actual application scenarios in this article,\n",
    "which proves that the optimized algorithm has excellent\n",
    "performance in actual applications. The test results reflect\n",
    "that the reproduced and optimized MTCNN face\n",
    "detection algorithm has good robustness to face pose\n",
    "changes, and fully meets the requirements of face\n",
    "recognition systems in low computing power scenarios\n",
    "such as channel bayonet. A mature face recognition system usually consists of\n",
    "image acquisition, image preprocessing, face detection,\n",
    "face tracking, face alignment, feature extraction and\n",
    "comparison. Among the more critical steps are face\n",
    "detection, tracking and face feature extraction. In\n",
    "recent years, face recognition systems have been\n",
    "widely used in channel bayonet systems such as smart\n",
    "access control and identity verification in high-speed\n",
    "railway stations. These channel bayonet face\n",
    "recognition systems have all or most of the face image\n",
    "collection, face detection, face alignment, face quality\n",
    "detection, face feature extraction, face tracking and\n",
    "other steps. However, some of these systems require a\n",
    "high degree of cooperation from people, some are\n",
    "complex to implement, and some have high\n",
    "requirements for hardware such as computing devices.\n",
    "On the one hand, the computing power of embedded\n",
    "systems is not enough to support face detection,\n",
    "tracking and face feature pairing based on deep\n",
    "learning. Real-time requirements, some channel\n",
    "bayonet face recognition systems require people to\n",
    "deliberately approach the camera to cooperate with the\n",
    "system for verification, discarding the natural and\n",
    "convenient advantages of face recognition. The\n",
    "specific target scenario studied in this paper is a singlechannel bayonet (single face close range), and the goal\n",
    "is to be able to quickly compare and recognize faces\n",
    "within 1-4 meters. The goal of the research is to apply\n",
    "a faster and better performance algorithm to the\n",
    "channel bayonet face recognition system with low\n",
    "computing power, and to improve the operating speed\n",
    "of the face recognition system through the improved\n",
    "face detection algorithm. It can be mounted on low-end\n",
    "devices with poor computing performance while\n",
    "maintaining certain detection and recognition performance.\n",
    "Aiming at the above problems, this paper combines\n",
    "the channel bayonet application scenarios, through\n",
    "research and improve face detection algorithms, face\n",
    "tracking auxiliary algorithms, and introduce face\n",
    "selection algorithms in the face recognition module to\n",
    "satisfy the real-time and convenience requirements of\n",
    "the channel bayonet face recognition system. After investigating and studying the existing face\n",
    "recognition system and analyzing its advantages and\n",
    "disadvantages, this paper improves the key\n",
    "technologies of the face recognition system. Firstly,\n",
    "using Python language to reproduce the MTCNN face\n",
    "detection algorithm on the TensorFlow deep learning\n",
    "framework, and it is optimized and improved by\n",
    "combining with the actual application scene of channel\n",
    "bayonet in this paper. The fusion of the improved\n",
    "speed-up MTCNN algorithm and the supervised\n",
    "Kalman filter human tracking algorithm proposed in\n",
    "this paper accelerates the system operation speed.\n",
    "According to the face selection algorithm proposed in\n",
    "this paper, a face selection module with multiple\n",
    "purposes is designed. Then according to the\n",
    "comparison and analysis of various face recognition\n",
    "algorithms, the FaceNet face recognition algorithm is\n",
    "selected, and the face recognition module is designed\n",
    "in combination with the face selection algorithm\n",
    "proposed in this paper. Finally, the above research is\n",
    "applied to the channel bayonet face recognition system,\n",
    "and the system design and implementation are\n",
    "completed. The chapter arrangement and corresponding\n",
    "main work of this paper are as follows.\n",
    "The first part is the introduction and the second part\n",
    "is overseas and domestic research status, which\n",
    "explains the research background and significance of\n",
    "face recognition system; This paper analyzes the\n",
    "development status of face detection in the system at\n",
    "home and abroad, and compares and analyzes various\n",
    "algorithms, paving the way and explaining the reasons\n",
    "for the selection of various algorithms in the following\n",
    "research work. The third part introduces the common\n",
    "data set of face detection. The fourth part and the fifth\n",
    "part choose MTCNN algorithm as the face detection\n",
    "algorithm in the system according to the investigation\n",
    "and experimental comparison of face detection algorithm.\n",
    "Since there is no engineering implementation of\n",
    "MTCNN algorithm based on Python language and\n",
    "TensorFlow framework, it is reproduced and trained\n",
    "after an in-depth understanding of its convolutional\n",
    "neural network structure and detailed training methods.\n",
    "Afterwards, the time-consuming analysis of all levels\n",
    "of the network in MTCNN was carried out, and it was\n",
    "found that the PNet module took the highest proportion\n",
    "of time, and the corresponding speed-up suggestions\n",
    "were put forward. Then, in view of the low detection\n",
    "speed of the MTCNN algorithm in high-resolution\n",
    "videos, it cannot meet the real-time problem, combined\n",
    "with the specific application scenarios of the channel\n",
    "bayonet face recognition in this paper, a series of\n",
    "optimizations such as minnisize adjustment and PNet\n",
    "threshold adjustment are performed. Finally, according\n",
    "to the detection rate on the FDDB face test set and the\n",
    "actual detection speed in 720p high-resolution video, it\n",
    "can be seen that the detection speed increases by\n",
    "70.1% when the detection rate drops by 3.5%. By\n",
    "analyzing the detection results of specific FDDB data\n",
    "set images, it is found that the undetected face\n",
    "conditions do not meet the practical application\n",
    "scenarios in this paper, which proves the excellent\n",
    "performance of the optimized algorithm in practical\n",
    "application. Finally, the face detection module was\n",
    "designed and implemented, and actual engineering\n",
    "tests were carried out; the test results reflect the\n",
    "specific data that the reproduced and tuned MTCNN\n",
    "face detection algorithm has good robustness to face\n",
    "pose changes and fully meet the requirements of the\n",
    "channel bayonet face recognition system. The sixth\n",
    "part is a summary and outlook. It summarizes the main\n",
    "research content of this paper, analyzes the affirmative\n",
    "part of the research work and the problems that need to\n",
    "be studied, and put forward the research direction for\n",
    "future work. \"\"\"\n",
    "summary = summarize_text(input_text)\n",
    "print(\"Final Summary:\\n\", summary)"
   ]
  },
  {
   "cell_type": "code",
   "execution_count": 6,
   "metadata": {},
   "outputs": [
    {
     "name": "stdout",
     "output_type": "stream",
     "text": [
      "1011\n",
      "321\n"
     ]
    }
   ],
   "source": [
    "x = input_text.split(\" \")\n",
    "print(len(x))\n",
    "y = summary.split(\" \")\n",
    "print(len(y))"
   ]
  },
  {
   "cell_type": "code",
   "execution_count": 4,
   "metadata": {},
   "outputs": [
    {
     "name": "stdout",
     "output_type": "stream",
     "text": [
      "8\n",
      "This paper analyzes the time-consuming analysis of each network module (PNet module, RNet module and ONet module) in MTCNN.\n",
      "It finds that the time-consuming of PNet module is the highest (about 70%)\n",
      "Two improved methods are proposed, one is to reduce the number of candidate face frames in input PNet network and the other is to reduce the number of output face frames in PNet network.\n",
      "It is verified in the FDDB face test set and practical application, the detection speed has increased by 70.1% when the detection rate has dropped by only 3.5%, and the improved scheme has achieved good results.\n",
      "This paper combines the channel bayonet application scenarios, through research and improve face detection algorithms, face tracking auxiliary algorithms, and introduce face selection algorithms in the face recognition module to satisfy the real-time and convenience requirements of the channel bayonet face recognition system.\n",
      "The improved face detection algorithm can be mounted on low-end devices with poor computing performance, and to improve the operating speed of the face recognition system through the improved face detection algorithm, it can be applied to channel bayonet face recognition system with low computing power, and to improve the operating speed of the face recognition system through the improved face detection algorithm, it can be mounted on low-end devices with poor computing performance, and to improve the operating speed of the face recognition system through the improved face detection algorithm, it can be applied to channel bayonet face recognition system with low computing power, and to improve the operating In view of the low detection speed of the MTCNN algorithm in high-resolution videos, a series of optimizations are performed.\n",
      "According to the detection rate on the FDDB face test set and the actual detection speed in 720p high-resolution video, it can be seen that the detection speed increases by 70.1% when the detection rate drops by 3.5%.\n",
      "The face detection module was designed and implemented, and actual engineering tests were carried out\n"
     ]
    }
   ],
   "source": [
    "a = summary.split(\"<n>\")\n",
    "print(len(a))\n",
    "for i in a:\n",
    "    print(i)"
   ]
  },
  {
   "cell_type": "code",
   "execution_count": 7,
   "metadata": {},
   "outputs": [
    {
     "name": "stderr",
     "output_type": "stream",
     "text": [
      "[nltk_data] Downloading package punkt to\n",
      "[nltk_data]     C:\\Users\\nihar\\AppData\\Roaming\\nltk_data...\n",
      "[nltk_data]   Package punkt is already up-to-date!\n"
     ]
    },
    {
     "data": {
      "text/plain": [
       "True"
      ]
     },
     "execution_count": 7,
     "metadata": {},
     "output_type": "execute_result"
    }
   ],
   "source": [
    "import torch\n",
    "import nltk\n",
    "from transformers import PegasusTokenizer, PegasusForConditionalGeneration\n",
    "\n",
    "# Ensure nltk sentence tokenizer is available\n",
    "nltk.download('punkt')"
   ]
  },
  {
   "cell_type": "code",
   "execution_count": 11,
   "metadata": {},
   "outputs": [],
   "source": [
    "def chunk_text(text, tokenizer, max_tokens=1024):\n",
    "    \"\"\"\n",
    "    Splits long text into token-based chunks while maintaining sentence boundaries.\n",
    "    \"\"\"\n",
    "    tokens = tokenizer.encode(text, truncation=False)\n",
    "    chunks = [tokens[i:i+max_tokens] for i in range(0, len(tokens), max_tokens)]\n",
    "    \n",
    "    print(f\"🔹 Total Input Tokens: {len(tokens)}\")\n",
    "    print(f\"🔹 Number of Chunks: {len(chunks)}\")\n",
    "    print(f\"🔹 Chunk Sizes: {[len(chunk) for chunk in chunks]}\\n\")\n",
    "    \n",
    "    return [tokenizer.decode(chunk, skip_special_tokens=True) for chunk in chunks], len(tokens)\n",
    "\n",
    "def ensure_complete_sentences(text):\n",
    "    \"\"\"\n",
    "    Trims the text to ensure it ends at a proper sentence boundary.\n",
    "    \"\"\"\n",
    "    sentences = nltk.sent_tokenize(text)\n",
    "    if not sentences:\n",
    "        return text  # If no sentences are detected, return as is\n",
    "    return \" \".join(sentences[:-1]) if len(sentences) > 1 else sentences[0]  # Remove incomplete last sentence\n",
    "\n",
    "def summarize_text(text, min_ratio=0.25, max_ratio=0.30):\n",
    "    \"\"\"\n",
    "    Summarizes the text ensuring that the summary length is 25-30% of the original.\n",
    "    \"\"\"\n",
    "    device = \"cuda\" if torch.cuda.is_available() else \"cpu\"\n",
    "\n",
    "    # Token-based chunking for long texts\n",
    "    max_input_tokens = 1024  # Pegasus supports 1024 tokens\n",
    "    text_chunks, total_input_tokens = chunk_text(text, tokenizer, max_tokens=max_input_tokens)\n",
    "\n",
    "    summaries = []\n",
    "    for i, chunk in enumerate(text_chunks):\n",
    "        input_tokens = tokenizer.encode(chunk, return_tensors=\"pt\", truncation=True).to(device)\n",
    "        input_length = input_tokens.shape[1]\n",
    "        \n",
    "        # Ensure 25-30% summary length with a buffer\n",
    "        min_summary_length = max(20, int(input_length * min_ratio))\n",
    "        max_summary_length = max(min_summary_length + 30, int(input_length * max_ratio))  # Added buffer of +30 tokens\n",
    "\n",
    "        print(f\"🟢 Chunk {i+1}:\")\n",
    "        print(f\"   🔸 Input Tokens: {input_length}\")\n",
    "        print(f\"   🔸 Expected Output Tokens: {min_summary_length} - {max_summary_length}\")\n",
    "\n",
    "        # Generate summary\n",
    "        summary_ids = model.generate(\n",
    "            input_tokens, \n",
    "            max_length=max_summary_length, \n",
    "            min_length=min_summary_length, \n",
    "            length_penalty=1.5, \n",
    "            num_return_sequences=1\n",
    "        )\n",
    "\n",
    "        output_tokens = summary_ids.shape[1]\n",
    "        summary_text = tokenizer.decode(summary_ids[0], skip_special_tokens=True, clean_up_tokenization_spaces=True)\n",
    "\n",
    "        # Ensure sentences are complete\n",
    "        summary_text = ensure_complete_sentences(summary_text)\n",
    "\n",
    "        print(f\"   🔹 Output Tokens: {output_tokens}\")\n",
    "        print(f\"   🔹 Summary: {summary_text}\\n\")\n",
    "\n",
    "        summaries.append(summary_text)\n",
    "\n",
    "    # Re-summarize the merged summaries if multiple chunks exist\n",
    "    final_summary = \" \".join(summaries)\n",
    "    total_output_tokens = len(tokenizer.encode(final_summary, truncation=False))\n",
    "\n",
    "    print(f\"\\n✅ Final Summary Tokens: {total_output_tokens} (Target: {int(total_input_tokens * min_ratio)} - {int(total_input_tokens * max_ratio)})\")\n",
    "    print(f\"📌 Final Summary:\\n{final_summary}\\n\")\n",
    "\n",
    "    return final_summary.replace(\"\\n\", \" \")  # Remove unwanted newlines"
   ]
  },
  {
   "cell_type": "code",
   "execution_count": 12,
   "metadata": {},
   "outputs": [
    {
     "name": "stdout",
     "output_type": "stream",
     "text": [
      "🔹 Total Input Tokens: 1337\n",
      "🔹 Number of Chunks: 2\n",
      "🔹 Chunk Sizes: [1024, 313]\n",
      "\n",
      "🟢 Chunk 1:\n",
      "   🔸 Input Tokens: 1024\n",
      "   🔸 Expected Output Tokens: 256 - 307\n",
      "   🔹 Output Tokens: 307\n",
      "   🔹 Summary: This paper analyzes the time-consuming analysis of each network module (PNet module, RNet module and ONet module) in MTCNN.<n>It finds that the time-consuming of PNet module is the highest (about 70%)<n>Two improved methods are proposed, one is to reduce the number of candidate face frames in input PNet network and the other is to reduce the number of output face frames in PNet network.<n>It is verified in the FDDB face test set and practical application, the detection speed has increased by 70.1% when the detection rate has dropped by only 3.5%, and the improved scheme has achieved good results.<n>This paper combines the channel bayonet application scenarios, through research and improve face detection algorithms, face tracking auxiliary algorithms, and introduce face selection algorithms in the face recognition module to satisfy the real-time and convenience requirements of the channel bayonet face recognition system.<n>The improved face detection algorithm can be mounted on low-end devices with poor computing performance, and to improve the operating speed of the face recognition system through the improved face detection algorithm, it can be applied to channel bayonet face recognition system with low computing power, and to improve the operating speed of the face recognition system through the improved face detection algorithm, it can be mounted on low-end devices with poor computing performance, and to improve the operating speed of the face recognition system through the improved face detection algorithm, it can be applied to channel bayonet face recognition system with low computing power, and to improve the operating\n",
      "\n",
      "🟢 Chunk 2:\n",
      "   🔸 Input Tokens: 313\n",
      "   🔸 Expected Output Tokens: 78 - 108\n",
      "   🔹 Output Tokens: 106\n",
      "   🔹 Summary: In view of the low detection speed of the MTCNN algorithm in high-resolution videos, a series of optimizations such as minnisize adjustment and PNet threshold adjustment are performed.<n>According to the detection rate on the FDDB face test set and the actual detection speed in 720p high-resolution video, it can be seen that the detection speed increases by 70.1% when the detection rate drops by 3.5%.<n>The face detection module was designed and implemented, and actual engineering tests were carried out.\n",
      "\n",
      "\n",
      "✅ Final Summary Tokens: 403 (Target: 334 - 401)\n",
      "📌 Final Summary:\n",
      "This paper analyzes the time-consuming analysis of each network module (PNet module, RNet module and ONet module) in MTCNN.<n>It finds that the time-consuming of PNet module is the highest (about 70%)<n>Two improved methods are proposed, one is to reduce the number of candidate face frames in input PNet network and the other is to reduce the number of output face frames in PNet network.<n>It is verified in the FDDB face test set and practical application, the detection speed has increased by 70.1% when the detection rate has dropped by only 3.5%, and the improved scheme has achieved good results.<n>This paper combines the channel bayonet application scenarios, through research and improve face detection algorithms, face tracking auxiliary algorithms, and introduce face selection algorithms in the face recognition module to satisfy the real-time and convenience requirements of the channel bayonet face recognition system.<n>The improved face detection algorithm can be mounted on low-end devices with poor computing performance, and to improve the operating speed of the face recognition system through the improved face detection algorithm, it can be applied to channel bayonet face recognition system with low computing power, and to improve the operating speed of the face recognition system through the improved face detection algorithm, it can be mounted on low-end devices with poor computing performance, and to improve the operating speed of the face recognition system through the improved face detection algorithm, it can be applied to channel bayonet face recognition system with low computing power, and to improve the operating In view of the low detection speed of the MTCNN algorithm in high-resolution videos, a series of optimizations such as minnisize adjustment and PNet threshold adjustment are performed.<n>According to the detection rate on the FDDB face test set and the actual detection speed in 720p high-resolution video, it can be seen that the detection speed increases by 70.1% when the detection rate drops by 3.5%.<n>The face detection module was designed and implemented, and actual engineering tests were carried out.\n",
      "\n",
      "Final Summary:\n",
      " This paper analyzes the time-consuming analysis of each network module (PNet module, RNet module and ONet module) in MTCNN.<n>It finds that the time-consuming of PNet module is the highest (about 70%)<n>Two improved methods are proposed, one is to reduce the number of candidate face frames in input PNet network and the other is to reduce the number of output face frames in PNet network.<n>It is verified in the FDDB face test set and practical application, the detection speed has increased by 70.1% when the detection rate has dropped by only 3.5%, and the improved scheme has achieved good results.<n>This paper combines the channel bayonet application scenarios, through research and improve face detection algorithms, face tracking auxiliary algorithms, and introduce face selection algorithms in the face recognition module to satisfy the real-time and convenience requirements of the channel bayonet face recognition system.<n>The improved face detection algorithm can be mounted on low-end devices with poor computing performance, and to improve the operating speed of the face recognition system through the improved face detection algorithm, it can be applied to channel bayonet face recognition system with low computing power, and to improve the operating speed of the face recognition system through the improved face detection algorithm, it can be mounted on low-end devices with poor computing performance, and to improve the operating speed of the face recognition system through the improved face detection algorithm, it can be applied to channel bayonet face recognition system with low computing power, and to improve the operating In view of the low detection speed of the MTCNN algorithm in high-resolution videos, a series of optimizations such as minnisize adjustment and PNet threshold adjustment are performed.<n>According to the detection rate on the FDDB face test set and the actual detection speed in 720p high-resolution video, it can be seen that the detection speed increases by 70.1% when the detection rate drops by 3.5%.<n>The face detection module was designed and implemented, and actual engineering tests were carried out.\n"
     ]
    }
   ],
   "source": [
    "# Example Usage\n",
    "input_text = \"\"\"This paper analyzes the time-consuming analysis of\n",
    "each cascading network module (PNet module, RNet\n",
    "module and ONet module) in MTCNN, and finds that the\n",
    "time-consuming of PNet module is the highest (about\n",
    "70%). According to the results of time-consuming\n",
    "analysis, two improved methods are proposed, one is to\n",
    "reduce the number of candidate face frames in input PNet\n",
    "network and the other is to reduce the number of output\n",
    "face frames in PNet network. Then, aiming at the\n",
    "problem that MTCNN algorithm has low detection speed\n",
    "in high-resolution video and cannot meet real-time\n",
    "requirements, a series of optimization such as adjusting\n",
    "the minnisize parameter and PNet threshold in\n",
    "combination with the low computing power application\n",
    "scenarios of the channel bayonet. It is verified in the\n",
    "FDDB face test set and practical application, the\n",
    "detection speed has increased by 70.1% when the\n",
    "detection rate has dropped by only 3.5%, and the\n",
    "improved scheme has achieved good results. Compared\n",
    "with the performance of OpenCV-VJ and SURF face\n",
    "detection algorithms on FDDB, the optimized MTCNN\n",
    "algorithm has better performance. Through the analysis\n",
    "of the detection results of the specific FDDB data set\n",
    "pictures, it is found that the undetected face conditions do\n",
    "not meet the actual application scenarios in this article,\n",
    "which proves that the optimized algorithm has excellent\n",
    "performance in actual applications. The test results reflect\n",
    "that the reproduced and optimized MTCNN face\n",
    "detection algorithm has good robustness to face pose\n",
    "changes, and fully meets the requirements of face\n",
    "recognition systems in low computing power scenarios\n",
    "such as channel bayonet. A mature face recognition system usually consists of\n",
    "image acquisition, image preprocessing, face detection,\n",
    "face tracking, face alignment, feature extraction and\n",
    "comparison. Among the more critical steps are face\n",
    "detection, tracking and face feature extraction. In\n",
    "recent years, face recognition systems have been\n",
    "widely used in channel bayonet systems such as smart\n",
    "access control and identity verification in high-speed\n",
    "railway stations. These channel bayonet face\n",
    "recognition systems have all or most of the face image\n",
    "collection, face detection, face alignment, face quality\n",
    "detection, face feature extraction, face tracking and\n",
    "other steps. However, some of these systems require a\n",
    "high degree of cooperation from people, some are\n",
    "complex to implement, and some have high\n",
    "requirements for hardware such as computing devices.\n",
    "On the one hand, the computing power of embedded\n",
    "systems is not enough to support face detection,\n",
    "tracking and face feature pairing based on deep\n",
    "learning. Real-time requirements, some channel\n",
    "bayonet face recognition systems require people to\n",
    "deliberately approach the camera to cooperate with the\n",
    "system for verification, discarding the natural and\n",
    "convenient advantages of face recognition. The\n",
    "specific target scenario studied in this paper is a singlechannel bayonet (single face close range), and the goal\n",
    "is to be able to quickly compare and recognize faces\n",
    "within 1-4 meters. The goal of the research is to apply\n",
    "a faster and better performance algorithm to the\n",
    "channel bayonet face recognition system with low\n",
    "computing power, and to improve the operating speed\n",
    "of the face recognition system through the improved\n",
    "face detection algorithm. It can be mounted on low-end\n",
    "devices with poor computing performance while\n",
    "maintaining certain detection and recognition performance.\n",
    "Aiming at the above problems, this paper combines\n",
    "the channel bayonet application scenarios, through\n",
    "research and improve face detection algorithms, face\n",
    "tracking auxiliary algorithms, and introduce face\n",
    "selection algorithms in the face recognition module to\n",
    "satisfy the real-time and convenience requirements of\n",
    "the channel bayonet face recognition system. After investigating and studying the existing face\n",
    "recognition system and analyzing its advantages and\n",
    "disadvantages, this paper improves the key\n",
    "technologies of the face recognition system. Firstly,\n",
    "using Python language to reproduce the MTCNN face\n",
    "detection algorithm on the TensorFlow deep learning\n",
    "framework, and it is optimized and improved by\n",
    "combining with the actual application scene of channel\n",
    "bayonet in this paper. The fusion of the improved\n",
    "speed-up MTCNN algorithm and the supervised\n",
    "Kalman filter human tracking algorithm proposed in\n",
    "this paper accelerates the system operation speed.\n",
    "According to the face selection algorithm proposed in\n",
    "this paper, a face selection module with multiple\n",
    "purposes is designed. Then according to the\n",
    "comparison and analysis of various face recognition\n",
    "algorithms, the FaceNet face recognition algorithm is\n",
    "selected, and the face recognition module is designed\n",
    "in combination with the face selection algorithm\n",
    "proposed in this paper. Finally, the above research is\n",
    "applied to the channel bayonet face recognition system,\n",
    "and the system design and implementation are\n",
    "completed. The chapter arrangement and corresponding\n",
    "main work of this paper are as follows.\n",
    "The first part is the introduction and the second part\n",
    "is overseas and domestic research status, which\n",
    "explains the research background and significance of\n",
    "face recognition system; This paper analyzes the\n",
    "development status of face detection in the system at\n",
    "home and abroad, and compares and analyzes various\n",
    "algorithms, paving the way and explaining the reasons\n",
    "for the selection of various algorithms in the following\n",
    "research work. The third part introduces the common\n",
    "data set of face detection. The fourth part and the fifth\n",
    "part choose MTCNN algorithm as the face detection\n",
    "algorithm in the system according to the investigation\n",
    "and experimental comparison of face detection algorithm.\n",
    "Since there is no engineering implementation of\n",
    "MTCNN algorithm based on Python language and\n",
    "TensorFlow framework, it is reproduced and trained\n",
    "after an in-depth understanding of its convolutional\n",
    "neural network structure and detailed training methods.\n",
    "Afterwards, the time-consuming analysis of all levels\n",
    "of the network in MTCNN was carried out, and it was\n",
    "found that the PNet module took the highest proportion\n",
    "of time, and the corresponding speed-up suggestions\n",
    "were put forward. Then, in view of the low detection\n",
    "speed of the MTCNN algorithm in high-resolution\n",
    "videos, it cannot meet the real-time problem, combined\n",
    "with the specific application scenarios of the channel\n",
    "bayonet face recognition in this paper, a series of\n",
    "optimizations such as minnisize adjustment and PNet\n",
    "threshold adjustment are performed. Finally, according\n",
    "to the detection rate on the FDDB face test set and the\n",
    "actual detection speed in 720p high-resolution video, it\n",
    "can be seen that the detection speed increases by\n",
    "70.1% when the detection rate drops by 3.5%. By\n",
    "analyzing the detection results of specific FDDB data\n",
    "set images, it is found that the undetected face\n",
    "conditions do not meet the practical application\n",
    "scenarios in this paper, which proves the excellent\n",
    "performance of the optimized algorithm in practical\n",
    "application. Finally, the face detection module was\n",
    "designed and implemented, and actual engineering\n",
    "tests were carried out; the test results reflect the\n",
    "specific data that the reproduced and tuned MTCNN\n",
    "face detection algorithm has good robustness to face\n",
    "pose changes and fully meet the requirements of the\n",
    "channel bayonet face recognition system. The sixth\n",
    "part is a summary and outlook. It summarizes the main\n",
    "research content of this paper, analyzes the affirmative\n",
    "part of the research work and the problems that need to\n",
    "be studied, and put forward the research direction for\n",
    "future work. \"\"\"\n",
    "summary = summarize_text(input_text)\n",
    "print(\"Final Summary:\\n\", summary)"
   ]
  },
  {
   "cell_type": "code",
   "execution_count": 13,
   "metadata": {},
   "outputs": [
    {
     "name": "stdout",
     "output_type": "stream",
     "text": [
      "8\n",
      "This paper analyzes the time-consuming analysis of each network module (PNet module, RNet module and ONet module) in MTCNN.\n",
      "It finds that the time-consuming of PNet module is the highest (about 70%)\n",
      "Two improved methods are proposed, one is to reduce the number of candidate face frames in input PNet network and the other is to reduce the number of output face frames in PNet network.\n",
      "It is verified in the FDDB face test set and practical application, the detection speed has increased by 70.1% when the detection rate has dropped by only 3.5%, and the improved scheme has achieved good results.\n",
      "This paper combines the channel bayonet application scenarios, through research and improve face detection algorithms, face tracking auxiliary algorithms, and introduce face selection algorithms in the face recognition module to satisfy the real-time and convenience requirements of the channel bayonet face recognition system.\n",
      "The improved face detection algorithm can be mounted on low-end devices with poor computing performance, and to improve the operating speed of the face recognition system through the improved face detection algorithm, it can be applied to channel bayonet face recognition system with low computing power, and to improve the operating speed of the face recognition system through the improved face detection algorithm, it can be mounted on low-end devices with poor computing performance, and to improve the operating speed of the face recognition system through the improved face detection algorithm, it can be applied to channel bayonet face recognition system with low computing power, and to improve the operating In view of the low detection speed of the MTCNN algorithm in high-resolution videos, a series of optimizations such as minnisize adjustment and PNet threshold adjustment are performed.\n",
      "According to the detection rate on the FDDB face test set and the actual detection speed in 720p high-resolution video, it can be seen that the detection speed increases by 70.1% when the detection rate drops by 3.5%.\n",
      "The face detection module was designed and implemented, and actual engineering tests were carried out.\n"
     ]
    }
   ],
   "source": [
    "a = summary.split(\"<n>\")\n",
    "print(len(a))\n",
    "for i in a:\n",
    "    print(i)"
   ]
  },
  {
   "cell_type": "code",
   "execution_count": 15,
   "metadata": {},
   "outputs": [
    {
     "name": "stdout",
     "output_type": "stream",
     "text": [
      "This paper analyzes the time-consuming analysis of each network module (PNet module, RNet module and ONet module) in MTCNN. It finds that the time-consuming of PNet module is the highest (about 70%) Two improved methods are proposed, one is to reduce the number of candidate face frames in input PNet network and the other is to reduce the number of output face frames in PNet network. It is verified in the FDDB face test set and practical application, the detection speed has increased by 70.1% when the detection rate has dropped by only 3.5%, and the improved scheme has achieved good results. This paper combines the channel bayonet application scenarios, through research and improve face detection algorithms, face tracking auxiliary algorithms, and introduce face selection algorithms in the face recognition module to satisfy the real-time and convenience requirements of the channel bayonet face recognition system. The improved face detection algorithm can be mounted on low-end devices with poor computing performance, and to improve the operating speed of the face recognition system through the improved face detection algorithm, it can be applied to channel bayonet face recognition system with low computing power, and to improve the operating speed of the face recognition system through the improved face detection algorithm, it can be mounted on low-end devices with poor computing performance, and to improve the operating speed of the face recognition system through the improved face detection algorithm, it can be applied to channel bayonet face recognition system with low computing power, and to improve the operating In view of the low detection speed of the MTCNN algorithm in high-resolution videos, a series of optimizations such as minnisize adjustment and PNet threshold adjustment are performed. According to the detection rate on the FDDB face test set and the actual detection speed in 720p high-resolution video, it can be seen that the detection speed increases by 70.1% when the detection rate drops by 3.5%. The face detection module was designed and implemented, and actual engineering tests were carried out.\n"
     ]
    }
   ],
   "source": [
    "s = summary.replace(\"<n>\",\" \")\n",
    "print(s)"
   ]
  },
  {
   "cell_type": "code",
   "execution_count": 16,
   "metadata": {},
   "outputs": [
    {
     "name": "stdout",
     "output_type": "stream",
     "text": [
      "1011\n",
      "329\n"
     ]
    }
   ],
   "source": [
    "x = input_text.split(\" \")\n",
    "print(len(x))\n",
    "y = summary.split(\" \")\n",
    "print(len(y))"
   ]
  },
  {
   "cell_type": "code",
   "execution_count": null,
   "metadata": {},
   "outputs": [],
   "source": []
  }
 ],
 "metadata": {
  "kernelspec": {
   "display_name": "Python 3",
   "language": "python",
   "name": "python3"
  },
  "language_info": {
   "codemirror_mode": {
    "name": "ipython",
    "version": 3
   },
   "file_extension": ".py",
   "mimetype": "text/x-python",
   "name": "python",
   "nbconvert_exporter": "python",
   "pygments_lexer": "ipython3",
   "version": "3.12.3"
  }
 },
 "nbformat": 4,
 "nbformat_minor": 2
}
