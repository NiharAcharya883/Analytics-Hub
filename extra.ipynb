{
 "cells": [
  {
   "cell_type": "code",
   "execution_count": null,
   "metadata": {},
   "outputs": [
    {
     "ename": "",
     "evalue": "",
     "output_type": "error",
     "traceback": [
      "\u001b[1;31mRunning cells with 'venv (Python 3.12.3)' requires the ipykernel package.\n",
      "\u001b[1;31mRun the following command to install 'ipykernel' into the Python environment. \n",
      "\u001b[1;31mCommand: '\"c:/Users/nihar/Desktop/8th Sem/Flask_App/Analytics_Hub/venv/Scripts/python.exe\" -m pip install ipykernel -U --force-reinstall'"
     ]
    }
   ],
   "source": [
    "pip install flask"
   ]
  },
  {
   "cell_type": "markdown",
   "metadata": {},
   "source": [
    "Okay next up i want to create a translator.html. I have extend the base.html code which contains the navbar. Now i want the following sections. 1st the welcome header written the name of tool ie. Language Translator next line contains few lines about tool . write functionality of python's googletrans module . Then below that give a text box for user to write the input data and besides that a button to upload a file. this also contains a select language to translate which has a dropdown   of 107 languages ['afrikaans', 'albanian', 'amharic', 'arabic', 'armenian', 'azerbaijani', 'basque', 'belarusian', 'bengali', 'bosnian', 'bulgarian', 'catalan', 'cebuano', 'chichewa', 'chinese (simplified)', 'chinese (traditional)', 'corsican', 'croatian', 'czech', 'danish', 'dutch', 'english', 'esperanto', 'estonian', 'filipino', 'finnish', 'french', 'frisian', 'galician', 'georgian', 'german', 'greek', 'gujarati', 'haitian creole', 'hausa', 'hawaiian', 'hebrew', 'hebrew', 'hindi', 'hmong', 'hungarian', 'icelandic', 'igbo', 'indonesian', 'irish', 'italian', 'japanese', 'javanese', 'kannada', 'kazakh', 'khmer', 'korean', 'kurdish (kurmanji)', 'kyrgyz', 'lao', 'latin', 'latvian', 'lithuanian', 'luxembourgish', 'macedonian', 'malagasy', 'malay', 'malayalam', 'maltese', 'maori', 'marathi', 'mongolian', 'myanmar (burmese)', 'nepali', 'norwegian', 'odia', 'pashto', 'persian', 'polish', 'portuguese', 'punjabi', 'romanian', 'russian', 'samoan', 'scots gaelic', 'serbian', 'sesotho', 'shona', 'sindhi', 'sinhala', 'slovak', 'slovenian', 'somali', 'spanish', 'sundanese', 'swahili', 'swedish', 'tajik', 'tamil', 'telugu', 'thai', 'turkish', 'ukrainian', 'urdu', 'uyghur', 'uzbek', 'vietnamese', 'welsh', 'xhosa', 'yiddish', 'yoruba', 'zulu'] write them all as it is. also give search functionality to search for a language. when user inputs text or uploads file and selects language then a translate button appears. When translate button appears python code is executed  def doc2text(file_path) :\n",
    "\n",
    "    if file_path.endswith('pdf'):\n",
    "        with fitz.open(file_path) as doc:\n",
    "            text = \"\"\n",
    "            for page in doc:\n",
    "                text += page.get_text()\n",
    "        return text\n",
    "    \n",
    "    elif file_path.endswith('docx') or file_path.endswith('DOCX') or file_path.endswith('Docx'):\n",
    "        document = Document(file_path)\n",
    "        text = []\n",
    "        for paragraph in document.paragraphs:\n",
    "            text.append(paragraph.text)\n",
    "        return '\\n'.join(text)\n",
    "\n",
    "    elif file_path.endswith('html') or file_path.endswith('HTML'):\n",
    "        with open(file_path, 'r', encoding='utf-8') as file:\n",
    "            html_content = file.read()\n",
    "        soup = BeautifulSoup(html_content, 'lxml')\n",
    "        return soup.get_text(separator='\\n', strip=True)\n",
    "\n",
    "    elif file_path.endswith('jpg') or file_path.endswith('jpeg') or file_path.endswith('png'):\n",
    "      image = Image.open(file_path)\n",
    "      extracted_text = pytesseract.image_to_string(image)\n",
    "      return extracted_text\n",
    "    \n",
    "text = doc2text(r\"C:\\Users\\nihar\\Downloads\\spanish.jpg\")\n",
    "if len(text)>15000:\n",
    "    print(\"Limit Exceeded\") use this python code then result = translator.translate(text,dest=Language) after extracting the file text and checking that the length is less than 150000 characters then , translation occures. The translated text is stored in a pdf and the pdf will be downloaded to user's pc automatically. and Give proper html , css, javascript. If the file format are not same as mentioned above then give an alert. if length of text or file text exceeds 15000 characters then give an alert. This task is difficult. See what u can do. This will br atleast 600 lines code. Don not skip any languages in the dropdown menu!! "
   ]
  },
  {
   "cell_type": "code",
   "execution_count": 4,
   "metadata": {},
   "outputs": [
    {
     "name": "stdout",
     "output_type": "stream",
     "text": [
      "15\n",
      "{10: 13, 5: 1, 1: 1}\n"
     ]
    }
   ],
   "source": [
    "L = [1,5,10]\n",
    "L.sort(reverse=True)\n",
    "n = 136\n",
    "c = 0\n",
    "d={}\n",
    "for i in L:\n",
    "    t = n//i\n",
    "    n = n%i\n",
    "    c+=t \n",
    "    d[i] = t\n",
    "print(c)\n",
    "print(d)"
   ]
  },
  {
   "cell_type": "markdown",
   "metadata": {},
   "source": [
    " <p>\n",
    "        It all began in 2025 with a simple yet powerful idea: to revolutionize the way individuals and businesses analyze text using AI.\n",
    "        The digital world was becoming saturated with information, and making sense of vast amounts of text efficiently had become a challenge.\n",
    "        We saw an opportunity to bring AI-driven solutions to everyday problems—whether it was detecting fake news, summarizing lengthy documents,\n",
    "        translating languages, or analyzing sentiments with precision. With a small but dedicated team of visionaries, developers, and AI researchers,\n",
    "        we embarked on this journey to make AI-powered text processing accessible, accurate, and seamless.\n",
    "    </p>\n",
    "    <p>\n",
    "        Over time, our platform grew beyond just an idea. We built and fine-tuned advanced AI models to cater to real-world needs, ensuring our tools were\n",
    "        not only fast but also intelligent. We collaborated with industry experts, worked closely with researchers, and continuously innovated to refine our\n",
    "        algorithms. Today, our analytics hub stands as a beacon of cutting-edge AI, empowering users worldwide with powerful text-processing tools that\n",
    "        redefine efficiency and accuracy in content analysis.\n",
    "    </p>"
   ]
  },
  {
   "cell_type": "markdown",
   "metadata": {},
   "source": [
    "<p>\n",
    "        Our platform is more than just a collection of tools—it’s an ecosystem designed to cater to a diverse range of needs. Whether you’re an academic,\n",
    "        a journalist, a content creator, or a business professional, we provide AI solutions that simplify your workflow and enhance productivity.\n",
    "        Our Fake News Detection tool ensures that you consume and share credible information, while our Plagiarism Detector helps maintain the integrity\n",
    "        of your content. The Sentiment Analysis tool provides deep insights into public opinion, and our Language Translator breaks down language barriers,\n",
    "        making global communication effortless. And when it comes to digesting lengthy documents, our AI-powered Summarization tool does the heavy lifting for you.\n",
    "    </p>\n",
    "    <p>\n",
    "        What sets us apart is our commitment to innovation and accuracy. Our models are continuously trained on the latest datasets, ensuring\n",
    "        state-of-the-art performance. We prioritize user experience, making our platform intuitive and easy to navigate. With data security at the\n",
    "        core of our operations, you can trust that your information remains confidential. Join thousands of users who have already embraced\n",
    "        AI-powered efficiency—experience the future of text analytics with us.\n",
    "    </p>"
   ]
  }
 ],
 "metadata": {
  "kernelspec": {
   "display_name": "Python 3",
   "language": "python",
   "name": "python3"
  },
  "language_info": {
   "codemirror_mode": {
    "name": "ipython",
    "version": 3
   },
   "file_extension": ".py",
   "mimetype": "text/x-python",
   "name": "python",
   "nbconvert_exporter": "python",
   "pygments_lexer": "ipython3",
   "version": "3.12.3"
  }
 },
 "nbformat": 4,
 "nbformat_minor": 2
}
